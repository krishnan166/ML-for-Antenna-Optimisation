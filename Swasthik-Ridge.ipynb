{
 "cells": [
  {
   "cell_type": "code",
   "execution_count": 2,
   "metadata": {},
   "outputs": [
    {
     "name": "stdout",
     "output_type": "stream",
     "text": [
      "0.21995822621024452\n"
     ]
    }
   ],
   "source": [
    "#Step 1 - Loading the required libraries and modules.\n",
    "import pandas as pd\n",
    "import numpy as np\n",
    "from sklearn import model_selection\n",
    "from sklearn.linear_model import Ridge\n",
    "from sklearn.metrics import r2_score\n",
    "from sklearn.model_selection import train_test_split\n",
    "from sklearn.metrics import mean_squared_error\n",
    "from math import sqrt\n",
    "\n",
    "#Step 2 - Reading the Data and Performing Basic Data Checks\n",
    "df = pd.read_csv(\"E:\\HFSS PROJECTS\\S11 Swastik.csv\") \n",
    "data = df.values\n",
    "X =  df.iloc[:, :4]\n",
    "y = df.iloc[:,4]\n",
    "\n",
    "\n",
    "#Step 4 - Creating the Training and Test Datasets\n",
    "X_train, X_test, y_train, y_test = train_test_split(X, y, test_size=0.3, random_state=6)\n",
    "rr = Ridge(alpha=1)\n",
    "rr.fit(X_train, y_train) \n",
    "pred_train_rr= rr.predict(X_train)\n",
    "pred_test_rr= rr.predict(X_test)\n",
    "#print(np.sqrt(mean_squared_error(y_train,pred_train_rr)))\n",
    "print(r2_score(y_train, pred_train_rr))\n",
    "data1=pd.read_csv(\"validation.csv\")\n",
    "X1 =  data1.iloc[:, :4]\n",
    "Y1=rr.predict(X1)\n"
   ]
  },
  {
   "cell_type": "code",
   "execution_count": 30,
   "metadata": {},
   "outputs": [],
   "source": [
    "data1=pd.read_csv(\"validation.csv\")\n",
    "X1 =  data1.iloc[:, :4]\n",
    "Y1=rr.predict(X1)\n",
    "X1\n",
    "dict = {'pred':Y1}\n",
    "res_df=pd.DataFrame(dict)\n",
    "res_df.to_csv('swasthik-ridge.csv')\n",
    "    #pred_test_rr\n",
    "    #res_df=pd.DataFrame(dict)\n",
    "    #res_df.to_csv(\"xgs.csv\")\n",
    "    \n",
    "    #print(np.sqrt(mean_squared_error(y_test,pred_test_rr))) \n",
    "    #check.append(r2_score(y_test, pred_test_rr))\n",
    "#max(check)"
   ]
  },
  {
   "cell_type": "code",
   "execution_count": null,
   "metadata": {},
   "outputs": [],
   "source": []
  }
 ],
 "metadata": {
  "kernelspec": {
   "display_name": "Python 3",
   "language": "python",
   "name": "python3"
  },
  "language_info": {
   "codemirror_mode": {
    "name": "ipython",
    "version": 3
   },
   "file_extension": ".py",
   "mimetype": "text/x-python",
   "name": "python",
   "nbconvert_exporter": "python",
   "pygments_lexer": "ipython3",
   "version": "3.8.5"
  }
 },
 "nbformat": 4,
 "nbformat_minor": 4
}
